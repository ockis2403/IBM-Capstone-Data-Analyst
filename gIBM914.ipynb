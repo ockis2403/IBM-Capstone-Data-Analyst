{
 "cells": [
  {
   "cell_type": "code",
   "execution_count": 1,
   "id": "a94846ca-6e84-486b-957f-bfceb0e1bcb5",
   "metadata": {},
   "outputs": [
    {
     "name": "stdout",
     "output_type": "stream",
     "text": [
      "Requirement already satisfied: bs4 in c:\\users\\ockis\\anaconda3\\envs\\ibm\\lib\\site-packages (0.0.2)\n",
      "Requirement already satisfied: beautifulsoup4 in c:\\users\\ockis\\anaconda3\\envs\\ibm\\lib\\site-packages (from bs4) (4.11.1)\n",
      "Requirement already satisfied: soupsieve>1.2 in c:\\users\\ockis\\anaconda3\\envs\\ibm\\lib\\site-packages (from beautifulsoup4->bs4) (2.3.2.post1)\n",
      "Requirement already satisfied: html5lib in c:\\users\\ockis\\anaconda3\\envs\\ibm\\lib\\site-packages (1.1)\n",
      "Requirement already satisfied: webencodings in c:\\users\\ockis\\anaconda3\\envs\\ibm\\lib\\site-packages (from html5lib) (0.5.1)\n",
      "Requirement already satisfied: six>=1.9 in c:\\users\\ockis\\anaconda3\\envs\\ibm\\lib\\site-packages (from html5lib) (1.16.0)\n",
      "Requirement already satisfied: lxml in c:\\users\\ockis\\anaconda3\\envs\\ibm\\lib\\site-packages (5.1.0)\n"
     ]
    }
   ],
   "source": [
    "!pip install bs4\n",
    "!pip install html5lib\n",
    "!pip install lxml"
   ]
  },
  {
   "cell_type": "code",
   "execution_count": 2,
   "id": "43bd9675-2638-40a2-860a-84dd23101e99",
   "metadata": {},
   "outputs": [],
   "source": [
    "url = \"https://cf-courses-data.s3.us.cloud-object-storage.appdomain.cloud/IBM-DA0321EN-SkillsNetwork/labs/datasets/Programming_Languages.html\""
   ]
  },
  {
   "cell_type": "code",
   "execution_count": 3,
   "id": "dc9f5055-98d9-46fd-9121-fd5ebf64b1ab",
   "metadata": {},
   "outputs": [],
   "source": [
    "from bs4 import BeautifulSoup\n",
    "import requests"
   ]
  },
  {
   "cell_type": "code",
   "execution_count": 4,
   "id": "046b3abe-2cfa-48ae-b7a4-c4e0a188200d",
   "metadata": {},
   "outputs": [],
   "source": [
    "data  = requests.get(url).text"
   ]
  },
  {
   "cell_type": "code",
   "execution_count": 6,
   "id": "dbadaabf-c6e1-48bb-8068-77d4fa4a653e",
   "metadata": {},
   "outputs": [],
   "source": [
    "soup = BeautifulSoup(data,\"html5lib\") "
   ]
  },
  {
   "cell_type": "code",
   "execution_count": 7,
   "id": "e2cc1650-90fa-402f-baef-d97427d37a8e",
   "metadata": {},
   "outputs": [],
   "source": [
    "table = soup.find('table')"
   ]
  },
  {
   "cell_type": "code",
   "execution_count": 8,
   "id": "4e065626-6bc8-4ab7-ae35-83eb193f2aba",
   "metadata": {},
   "outputs": [
    {
     "name": "stdout",
     "output_type": "stream",
     "text": [
      "<class 'bs4.element.Tag'>\n"
     ]
    }
   ],
   "source": [
    "print(type(table))"
   ]
  },
  {
   "cell_type": "code",
   "execution_count": 26,
   "id": "ec610e23-3f94-4d4f-844f-06fa61e3d0d7",
   "metadata": {},
   "outputs": [],
   "source": [
    "with open('popular-languages.csv', \"w\") as file:\n",
    "    for row in table.find_all('tr'): # in html table row is represented by the tag <tr>\n",
    "    # Get all columns in each row.\n",
    "        cols = row.find_all('td') # in html a column is represented by the tag <td>\n",
    "        c1=cols[1].getText()\n",
    "        c2=cols[3].getText()\n",
    "        c2=c2.replace(',','')\n",
    "        c2=c2.replace('$','')\n",
    "        file.write(f'{c1},{c2}\\n')   "
   ]
  },
  {
   "cell_type": "code",
   "execution_count": 29,
   "id": "04276060-6d69-471a-bd4d-d5334919bcfe",
   "metadata": {},
   "outputs": [
    {
     "data": {
      "text/html": [
       "<div>\n",
       "<style scoped>\n",
       "    .dataframe tbody tr th:only-of-type {\n",
       "        vertical-align: middle;\n",
       "    }\n",
       "\n",
       "    .dataframe tbody tr th {\n",
       "        vertical-align: top;\n",
       "    }\n",
       "\n",
       "    .dataframe thead th {\n",
       "        text-align: right;\n",
       "    }\n",
       "</style>\n",
       "<table border=\"1\" class=\"dataframe\">\n",
       "  <thead>\n",
       "    <tr style=\"text-align: right;\">\n",
       "      <th></th>\n",
       "      <th>Language</th>\n",
       "      <th>Average Annual Salary</th>\n",
       "    </tr>\n",
       "  </thead>\n",
       "  <tbody>\n",
       "    <tr>\n",
       "      <th>0</th>\n",
       "      <td>Python</td>\n",
       "      <td>114383</td>\n",
       "    </tr>\n",
       "    <tr>\n",
       "      <th>1</th>\n",
       "      <td>Java</td>\n",
       "      <td>101013</td>\n",
       "    </tr>\n",
       "    <tr>\n",
       "      <th>2</th>\n",
       "      <td>R</td>\n",
       "      <td>92037</td>\n",
       "    </tr>\n",
       "    <tr>\n",
       "      <th>3</th>\n",
       "      <td>Javascript</td>\n",
       "      <td>110981</td>\n",
       "    </tr>\n",
       "    <tr>\n",
       "      <th>4</th>\n",
       "      <td>Swift</td>\n",
       "      <td>130801</td>\n",
       "    </tr>\n",
       "    <tr>\n",
       "      <th>5</th>\n",
       "      <td>C++</td>\n",
       "      <td>113865</td>\n",
       "    </tr>\n",
       "    <tr>\n",
       "      <th>6</th>\n",
       "      <td>C#</td>\n",
       "      <td>88726</td>\n",
       "    </tr>\n",
       "    <tr>\n",
       "      <th>7</th>\n",
       "      <td>PHP</td>\n",
       "      <td>84727</td>\n",
       "    </tr>\n",
       "    <tr>\n",
       "      <th>8</th>\n",
       "      <td>SQL</td>\n",
       "      <td>84793</td>\n",
       "    </tr>\n",
       "    <tr>\n",
       "      <th>9</th>\n",
       "      <td>Go</td>\n",
       "      <td>94082</td>\n",
       "    </tr>\n",
       "  </tbody>\n",
       "</table>\n",
       "</div>"
      ],
      "text/plain": [
       "     Language  Average Annual Salary\n",
       "0      Python                 114383\n",
       "1        Java                 101013\n",
       "2           R                  92037\n",
       "3  Javascript                 110981\n",
       "4       Swift                 130801\n",
       "5         C++                 113865\n",
       "6          C#                  88726\n",
       "7         PHP                  84727\n",
       "8         SQL                  84793\n",
       "9          Go                  94082"
      ]
     },
     "execution_count": 29,
     "metadata": {},
     "output_type": "execute_result"
    }
   ],
   "source": [
    "import pandas as pd\n",
    "df = pd.read_csv('popular-languages.csv')\n",
    "df"
   ]
  },
  {
   "cell_type": "code",
   "execution_count": 34,
   "id": "dcd907f3-f6d2-42e5-8611-cff3f73eba16",
   "metadata": {},
   "outputs": [
    {
     "name": "stdout",
     "output_type": "stream",
     "text": [
      "  Language  Average Annual Salary\n",
      "4    Swift                 130801\n"
     ]
    }
   ],
   "source": [
    "max = df['Average Annual Salary'].max()\n",
    "print(df[df.loc[:, 'Average Annual Salary'] == max])"
   ]
  }
 ],
 "metadata": {
  "kernelspec": {
   "display_name": "Python 3 (ipykernel)",
   "language": "python",
   "name": "python3"
  },
  "language_info": {
   "codemirror_mode": {
    "name": "ipython",
    "version": 3
   },
   "file_extension": ".py",
   "mimetype": "text/x-python",
   "name": "python",
   "nbconvert_exporter": "python",
   "pygments_lexer": "ipython3",
   "version": "3.7.16"
  }
 },
 "nbformat": 4,
 "nbformat_minor": 5
}
