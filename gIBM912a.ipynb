{
 "cells": [
  {
   "cell_type": "code",
   "execution_count": 6,
   "id": "4bbafac9-5baa-42e7-a5bf-825ce6c68137",
   "metadata": {},
   "outputs": [
    {
     "name": "stdout",
     "output_type": "stream",
     "text": [
      "Requirement already satisfied: openpyxl in c:\\users\\ockis\\anaconda3\\envs\\ibm\\lib\\site-packages (3.0.10)\n",
      "Requirement already satisfied: et_xmlfile in c:\\users\\ockis\\anaconda3\\envs\\ibm\\lib\\site-packages (from openpyxl) (1.1.0)\n",
      "Note: you may need to restart the kernel to use updated packages.\n"
     ]
    }
   ],
   "source": [
    "pip install openpyxl"
   ]
  },
  {
   "cell_type": "code",
   "execution_count": 1,
   "id": "389dc6a6-5674-4d8d-8c3a-84e1a78517fc",
   "metadata": {},
   "outputs": [],
   "source": [
    "import requests\n",
    "from openpyxl import Workbook"
   ]
  },
  {
   "cell_type": "code",
   "execution_count": 2,
   "id": "ad16bf24-d35b-470f-b857-8142df8bb85a",
   "metadata": {},
   "outputs": [],
   "source": [
    "api_url=\"http://127.0.0.1:5000/data\""
   ]
  },
  {
   "cell_type": "code",
   "execution_count": 3,
   "id": "0bb6d667-a9ed-4225-9dda-05cc2757f92d",
   "metadata": {},
   "outputs": [],
   "source": [
    "def get_num_jobs(location, technology):\n",
    "    payload={\"Key Skills\":technology, \"Location\":location}\n",
    "    response = requests.get(api_url,params=payload)\n",
    "    if response.ok:             \n",
    "        data = response.json()\n",
    "        number_of_jobs = len(data)\n",
    "        return number_of_jobs\n",
    "        "
   ]
  },
  {
   "cell_type": "code",
   "execution_count": 4,
   "id": "4201a249-fb9c-49a7-9572-e6b2e6f97dc1",
   "metadata": {},
   "outputs": [],
   "source": [
    "list_locations = ['Los Angeles','New York','San Francisco','Washington DC','Seattle','Austin','Detroit']\n",
    "list_technology = ['C','C#','C++','Java','JavaScript','Python','Scala','Oracle','SQL Server','MySQL Server','PostgreSQL','MongoDB']"
   ]
  },
  {
   "cell_type": "code",
   "execution_count": 5,
   "id": "1e31f31a-b7f5-4b4f-9fec-a69b5a5ed635",
   "metadata": {},
   "outputs": [],
   "source": [
    "wb=Workbook()                       \n",
    "ws=wb.active  "
   ]
  },
  {
   "cell_type": "code",
   "execution_count": 6,
   "id": "f6a3697a-6f73-4074-82b4-d30aadc13172",
   "metadata": {},
   "outputs": [],
   "source": [
    "ws.append(['Technology','Location','number of jobs'])\n"
   ]
  },
  {
   "cell_type": "code",
   "execution_count": 7,
   "id": "6c24c73b-891d-477b-b52c-014c52cc4b8a",
   "metadata": {},
   "outputs": [],
   "source": [
    "for tech in list_technology:\n",
    "    for loc in list_locations:\n",
    "        num_jobs = get_num_jobs(loc, tech)\n",
    "        ws.append([tech, loc,num_jobs])\n",
    "        "
   ]
  },
  {
   "cell_type": "code",
   "execution_count": 8,
   "id": "454ece49-1999-4d10-b529-a864aef8857e",
   "metadata": {},
   "outputs": [],
   "source": [
    "wb.save(\"job_postings_total.xlsx\")  "
   ]
  },
  {
   "cell_type": "code",
   "execution_count": null,
   "id": "bfcafeb8-ee1f-42df-ac8f-c3feccfb3699",
   "metadata": {},
   "outputs": [],
   "source": []
  }
 ],
 "metadata": {
  "kernelspec": {
   "display_name": "Python 3 (ipykernel)",
   "language": "python",
   "name": "python3"
  },
  "language_info": {
   "codemirror_mode": {
    "name": "ipython",
    "version": 3
   },
   "file_extension": ".py",
   "mimetype": "text/x-python",
   "name": "python",
   "nbconvert_exporter": "python",
   "pygments_lexer": "ipython3",
   "version": "3.7.16"
  }
 },
 "nbformat": 4,
 "nbformat_minor": 5
}
